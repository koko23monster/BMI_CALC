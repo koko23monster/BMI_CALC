{
 "cells": [
  {
   "cell_type": "code",
   "execution_count": 22,
   "metadata": {},
   "outputs": [
    {
     "name": "stdout",
     "output_type": "stream",
     "text": [
      "Enter your name: komal\n",
      "enter your hight_m: 1.55\n",
      "enter your weight_kg: 54\n",
      "BMI: \n",
      "22.476586888657646\n",
      "komal\n",
      "is not overweight\n"
     ]
    }
   ],
   "source": [
    "name = input('Enter your name: ')\n",
    "hi = float (input('enter your hight_m: ')) \n",
    "wt = float(input('enter your weight_kg: '))\n",
    "\n",
    "BMI = wt / (hi ** 2)\n",
    "print (\"BMI: \")\n",
    "print(BMI)\n",
    "if BMI <= 54: \n",
    "    print (name)\n",
    "    print(\"is not overweight\")\n",
    "else:\n",
    "    print(name)\n",
    "    print(\"is oveweight\")"
   ]
  },
  {
   "cell_type": "code",
   "execution_count": null,
   "metadata": {},
   "outputs": [],
   "source": []
  },
  {
   "cell_type": "code",
   "execution_count": null,
   "metadata": {},
   "outputs": [],
   "source": []
  }
 ],
 "metadata": {
  "kernelspec": {
   "display_name": "Python 3",
   "language": "python",
   "name": "python3"
  },
  "language_info": {
   "codemirror_mode": {
    "name": "ipython",
    "version": 3
   },
   "file_extension": ".py",
   "mimetype": "text/x-python",
   "name": "python",
   "nbconvert_exporter": "python",
   "pygments_lexer": "ipython3",
   "version": "3.8.5"
  }
 },
 "nbformat": 4,
 "nbformat_minor": 4
}
